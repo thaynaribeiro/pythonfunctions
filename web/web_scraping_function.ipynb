{
  "nbformat": 4,
  "nbformat_minor": 0,
  "metadata": {
    "colab": {
      "provenance": [],
      "authorship_tag": "ABX9TyPussKzP2qu0BgJL+qkaQ1i",
      "include_colab_link": true
    },
    "kernelspec": {
      "name": "python3",
      "display_name": "Python 3"
    },
    "language_info": {
      "name": "python"
    }
  },
  "cells": [
    {
      "cell_type": "markdown",
      "metadata": {
        "id": "view-in-github",
        "colab_type": "text"
      },
      "source": [
        "<a href=\"https://colab.research.google.com/github/thaynaribeiro/pythonfunctions/blob/main/web_scraping_function.ipynb\" target=\"_parent\"><img src=\"https://colab.research.google.com/assets/colab-badge.svg\" alt=\"Open In Colab\"/></a>"
      ]
    },
    {
      "cell_type": "markdown",
      "source": [
        "### Setup"
      ],
      "metadata": {
        "id": "VpFsv25zzWK8"
      }
    },
    {
      "cell_type": "code",
      "source": [
        "from google.colab import drive\n",
        "drive.mount('/content/drive')"
      ],
      "metadata": {
        "colab": {
          "base_uri": "https://localhost:8080/"
        },
        "id": "CbyqymBQzafk",
        "outputId": "18bc6887-d9a0-4172-adf4-1ab11fd8c7bd"
      },
      "execution_count": 1,
      "outputs": [
        {
          "output_type": "stream",
          "name": "stdout",
          "text": [
            "Mounted at /content/drive\n"
          ]
        }
      ]
    },
    {
      "cell_type": "code",
      "source": [
        "!pip install unidecode"
      ],
      "metadata": {
        "colab": {
          "base_uri": "https://localhost:8080/"
        },
        "id": "Hp9cnTkr4QUt",
        "outputId": "83b56c20-a1cc-4af2-f785-5482adbf27fa"
      },
      "execution_count": 13,
      "outputs": [
        {
          "output_type": "stream",
          "name": "stdout",
          "text": [
            "Collecting unidecode\n",
            "  Downloading Unidecode-1.3.8-py3-none-any.whl.metadata (13 kB)\n",
            "Downloading Unidecode-1.3.8-py3-none-any.whl (235 kB)\n",
            "\u001b[?25l   \u001b[90m━━━━━━━━━━━━━━━━━━━━━━━━━━━━━━━━━━━━━━━━\u001b[0m \u001b[32m0.0/235.5 kB\u001b[0m \u001b[31m?\u001b[0m eta \u001b[36m-:--:--\u001b[0m\r\u001b[2K   \u001b[91m━━━━━━━━━━━━━━━━━━━━━━━━\u001b[0m\u001b[90m╺\u001b[0m\u001b[90m━━━━━━━━━━━━━━━\u001b[0m \u001b[32m143.4/235.5 kB\u001b[0m \u001b[31m4.7 MB/s\u001b[0m eta \u001b[36m0:00:01\u001b[0m\r\u001b[2K   \u001b[90m━━━━━━━━━━━━━━━━━━━━━━━━━━━━━━━━━━━━━━━━\u001b[0m \u001b[32m235.5/235.5 kB\u001b[0m \u001b[31m4.5 MB/s\u001b[0m eta \u001b[36m0:00:00\u001b[0m\n",
            "\u001b[?25hInstalling collected packages: unidecode\n",
            "Successfully installed unidecode-1.3.8\n"
          ]
        }
      ]
    },
    {
      "cell_type": "code",
      "source": [
        "import os\n",
        "import pandas as pd\n",
        "import unidecode\n",
        "from bs4 import BeautifulSoup"
      ],
      "metadata": {
        "id": "EXeYTkdmzbXI"
      },
      "execution_count": 15,
      "outputs": []
    },
    {
      "cell_type": "code",
      "source": [
        "#Files Path\n",
        "election_path = '/content/drive/MyDrive/desenvolvimentos python/análise eleitoral municipal 2024/'"
      ],
      "metadata": {
        "id": "sZ5zz9iD0PsY"
      },
      "execution_count": 8,
      "outputs": []
    },
    {
      "cell_type": "markdown",
      "source": [
        "###Load files"
      ],
      "metadata": {
        "id": "CPFP8iG2zMSZ"
      }
    },
    {
      "cell_type": "code",
      "execution_count": 9,
      "metadata": {
        "id": "JZMZQldYyJ-R"
      },
      "outputs": [],
      "source": [
        "neighbourhood_zones_html = os.path.join(election_path,'zonas-eleitorais-bairros.html')"
      ]
    },
    {
      "cell_type": "markdown",
      "source": [
        "### Building neighbourhoods from html file"
      ],
      "metadata": {
        "id": "lwUfm--pfWYl"
      }
    },
    {
      "cell_type": "code",
      "source": [
        "# Load HTML file\n",
        "with open(neighbourhood_zones_html, \"r\", encoding=\"utf-8\") as file:\n",
        "    html_content = file.read()\n",
        "\n",
        "# HTML parsing with BeautifulSoup\n",
        "soup = BeautifulSoup(html_content, \"html.parser\")"
      ],
      "metadata": {
        "id": "usxTGPP6b0cY"
      },
      "execution_count": 10,
      "outputs": []
    },
    {
      "cell_type": "code",
      "source": [
        "# Function to extract the electoral zone, address, and neighborhood\n",
        "def extract_information(soup):\n",
        "    # Find all occurrences of 'Zona Eleitoral' and 'Endereço'\n",
        "    zonas = soup.find_all('p', text=lambda x: x and 'Zona Eleitoral' in x)\n",
        "    enderecos = soup.find_all('p', text=lambda x: x and 'Endereço' in x)\n",
        "\n",
        "    # Initializing lists to store the data\n",
        "    zone_list = []\n",
        "    address_list = []\n",
        "    neighborhood_list = []\n",
        "\n",
        "    # Iterate over all occurrences of zones and addresses\n",
        "    for zona_tag, endereco_tag in zip(zonas, enderecos):\n",
        "        # Extract the Electoral Zone\n",
        "        zone = zona_tag.get_text(strip=True)\n",
        "        zone = zone.split('Zona Eleitoral:')[-1].strip()\n",
        "        zone = zone.replace('<span>&nbsp;</span></strong>',\"\")\n",
        "        zone = zone.replace('</p>',\"\")\n",
        "\n",
        "        # Extract the Address\n",
        "        address = endereco_tag.get_text(strip=True)\n",
        "        address = address.split('Endereço:')[-1].strip()  # Taking the value after 'Endereço:'\n",
        "        address = address.replace('<span>&nbsp;</span></strong>',\"\")\n",
        "\n",
        "        # Extract the neighborhood (between the last comma and ' - RIO DE JANEIRO')\n",
        "        neighborhood = address.split(',')[-1].split(' - ')[0].strip()\n",
        "\n",
        "        # Add the extracted values to the lists\n",
        "        zone_list.append(zone)\n",
        "        address_list.append(address)\n",
        "        neighborhood_list.append(neighborhood)\n",
        "\n",
        "    # Create a DataFrame with the data\n",
        "    neighborhoods_zones = pd.DataFrame({\n",
        "        'ZONA': zone_list,\n",
        "        'ENDERECO': address_list,\n",
        "        'BAIRRO': neighborhood_list\n",
        "    })\n",
        "\n",
        "    neighborhoods_zones['ZONA'] = neighborhoods_zones['ZONA'].astype(str)\n",
        "    neighborhoods_zones['ENDERECO'] = neighborhoods_zones['ENDERECO'].astype(str)\n",
        "    neighborhoods_zones['BAIRRO'] = neighborhoods_zones['BAIRRO'].astype(str)\n",
        "    neighborhoods_zones['BAIRRO'] = neighborhoods_zones['BAIRRO'].apply(lambda x: unidecode.unidecode(x).upper())\n",
        "\n",
        "    return neighborhoods_zones\n",
        "\n",
        "# Extracting information from the HTML\n",
        "neighborhoods_zones = extract_information(soup)\n",
        "\n",
        "# Display the resulting DataFrame\n",
        "neighborhoods_zones.head()"
      ],
      "metadata": {
        "colab": {
          "base_uri": "https://localhost:8080/",
          "height": 275
        },
        "id": "zdWQO-Lifnhh",
        "outputId": "6e1f794b-43a9-4cfd-c9fb-f4ca23f3d5ea"
      },
      "execution_count": 16,
      "outputs": [
        {
          "output_type": "stream",
          "name": "stderr",
          "text": [
            "<ipython-input-16-b28d1ab2e66c>:4: DeprecationWarning: The 'text' argument to find()-type methods is deprecated. Use 'string' instead.\n",
            "  zonas = soup.find_all('p', text=lambda x: x and 'Zona Eleitoral' in x)\n",
            "<ipython-input-16-b28d1ab2e66c>:5: DeprecationWarning: The 'text' argument to find()-type methods is deprecated. Use 'string' instead.\n",
            "  enderecos = soup.find_all('p', text=lambda x: x and 'Endereço' in x)\n"
          ]
        },
        {
          "output_type": "execute_result",
          "data": {
            "text/plain": [
              "  ZONA                                           ENDERECO           BAIRRO\n",
              "0    4  RUA JARDIM BOTÂNICO, 1060, JARDIM BOTÂNICO - R...  JARDIM BOTANICO\n",
              "1    5  RUA MIGUEL LEMOS, NÚMERO 97, COPACABANA - RIO ...       COPACABANA\n",
              "2    7  RUA ANTÔNIO BASÍLIO, 76, TIJUCA - RIO DE JANEI...           TIJUCA\n",
              "3    8   RUA CACHAMBI, 328, CACHAMBI - RIO DE JANEIRO</p>         CACHAMBI\n",
              "4    9  AV AYRTON SENNA 2001 BLOCO C, BARRA DA TIJUCA ...  BARRA DA TIJUCA"
            ],
            "text/html": [
              "\n",
              "  <div id=\"df-5f8aeb94-2371-46bf-9be0-d84ef590a842\" class=\"colab-df-container\">\n",
              "    <div>\n",
              "<style scoped>\n",
              "    .dataframe tbody tr th:only-of-type {\n",
              "        vertical-align: middle;\n",
              "    }\n",
              "\n",
              "    .dataframe tbody tr th {\n",
              "        vertical-align: top;\n",
              "    }\n",
              "\n",
              "    .dataframe thead th {\n",
              "        text-align: right;\n",
              "    }\n",
              "</style>\n",
              "<table border=\"1\" class=\"dataframe\">\n",
              "  <thead>\n",
              "    <tr style=\"text-align: right;\">\n",
              "      <th></th>\n",
              "      <th>ZONA</th>\n",
              "      <th>ENDERECO</th>\n",
              "      <th>BAIRRO</th>\n",
              "    </tr>\n",
              "  </thead>\n",
              "  <tbody>\n",
              "    <tr>\n",
              "      <th>0</th>\n",
              "      <td>4</td>\n",
              "      <td>RUA JARDIM BOTÂNICO, 1060, JARDIM BOTÂNICO - R...</td>\n",
              "      <td>JARDIM BOTANICO</td>\n",
              "    </tr>\n",
              "    <tr>\n",
              "      <th>1</th>\n",
              "      <td>5</td>\n",
              "      <td>RUA MIGUEL LEMOS, NÚMERO 97, COPACABANA - RIO ...</td>\n",
              "      <td>COPACABANA</td>\n",
              "    </tr>\n",
              "    <tr>\n",
              "      <th>2</th>\n",
              "      <td>7</td>\n",
              "      <td>RUA ANTÔNIO BASÍLIO, 76, TIJUCA - RIO DE JANEI...</td>\n",
              "      <td>TIJUCA</td>\n",
              "    </tr>\n",
              "    <tr>\n",
              "      <th>3</th>\n",
              "      <td>8</td>\n",
              "      <td>RUA CACHAMBI, 328, CACHAMBI - RIO DE JANEIRO&lt;/p&gt;</td>\n",
              "      <td>CACHAMBI</td>\n",
              "    </tr>\n",
              "    <tr>\n",
              "      <th>4</th>\n",
              "      <td>9</td>\n",
              "      <td>AV AYRTON SENNA 2001 BLOCO C, BARRA DA TIJUCA ...</td>\n",
              "      <td>BARRA DA TIJUCA</td>\n",
              "    </tr>\n",
              "  </tbody>\n",
              "</table>\n",
              "</div>\n",
              "    <div class=\"colab-df-buttons\">\n",
              "\n",
              "  <div class=\"colab-df-container\">\n",
              "    <button class=\"colab-df-convert\" onclick=\"convertToInteractive('df-5f8aeb94-2371-46bf-9be0-d84ef590a842')\"\n",
              "            title=\"Convert this dataframe to an interactive table.\"\n",
              "            style=\"display:none;\">\n",
              "\n",
              "  <svg xmlns=\"http://www.w3.org/2000/svg\" height=\"24px\" viewBox=\"0 -960 960 960\">\n",
              "    <path d=\"M120-120v-720h720v720H120Zm60-500h600v-160H180v160Zm220 220h160v-160H400v160Zm0 220h160v-160H400v160ZM180-400h160v-160H180v160Zm440 0h160v-160H620v160ZM180-180h160v-160H180v160Zm440 0h160v-160H620v160Z\"/>\n",
              "  </svg>\n",
              "    </button>\n",
              "\n",
              "  <style>\n",
              "    .colab-df-container {\n",
              "      display:flex;\n",
              "      gap: 12px;\n",
              "    }\n",
              "\n",
              "    .colab-df-convert {\n",
              "      background-color: #E8F0FE;\n",
              "      border: none;\n",
              "      border-radius: 50%;\n",
              "      cursor: pointer;\n",
              "      display: none;\n",
              "      fill: #1967D2;\n",
              "      height: 32px;\n",
              "      padding: 0 0 0 0;\n",
              "      width: 32px;\n",
              "    }\n",
              "\n",
              "    .colab-df-convert:hover {\n",
              "      background-color: #E2EBFA;\n",
              "      box-shadow: 0px 1px 2px rgba(60, 64, 67, 0.3), 0px 1px 3px 1px rgba(60, 64, 67, 0.15);\n",
              "      fill: #174EA6;\n",
              "    }\n",
              "\n",
              "    .colab-df-buttons div {\n",
              "      margin-bottom: 4px;\n",
              "    }\n",
              "\n",
              "    [theme=dark] .colab-df-convert {\n",
              "      background-color: #3B4455;\n",
              "      fill: #D2E3FC;\n",
              "    }\n",
              "\n",
              "    [theme=dark] .colab-df-convert:hover {\n",
              "      background-color: #434B5C;\n",
              "      box-shadow: 0px 1px 3px 1px rgba(0, 0, 0, 0.15);\n",
              "      filter: drop-shadow(0px 1px 2px rgba(0, 0, 0, 0.3));\n",
              "      fill: #FFFFFF;\n",
              "    }\n",
              "  </style>\n",
              "\n",
              "    <script>\n",
              "      const buttonEl =\n",
              "        document.querySelector('#df-5f8aeb94-2371-46bf-9be0-d84ef590a842 button.colab-df-convert');\n",
              "      buttonEl.style.display =\n",
              "        google.colab.kernel.accessAllowed ? 'block' : 'none';\n",
              "\n",
              "      async function convertToInteractive(key) {\n",
              "        const element = document.querySelector('#df-5f8aeb94-2371-46bf-9be0-d84ef590a842');\n",
              "        const dataTable =\n",
              "          await google.colab.kernel.invokeFunction('convertToInteractive',\n",
              "                                                    [key], {});\n",
              "        if (!dataTable) return;\n",
              "\n",
              "        const docLinkHtml = 'Like what you see? Visit the ' +\n",
              "          '<a target=\"_blank\" href=https://colab.research.google.com/notebooks/data_table.ipynb>data table notebook</a>'\n",
              "          + ' to learn more about interactive tables.';\n",
              "        element.innerHTML = '';\n",
              "        dataTable['output_type'] = 'display_data';\n",
              "        await google.colab.output.renderOutput(dataTable, element);\n",
              "        const docLink = document.createElement('div');\n",
              "        docLink.innerHTML = docLinkHtml;\n",
              "        element.appendChild(docLink);\n",
              "      }\n",
              "    </script>\n",
              "  </div>\n",
              "\n",
              "\n",
              "<div id=\"df-bd03b168-8174-4055-af0a-bb94d739e74a\">\n",
              "  <button class=\"colab-df-quickchart\" onclick=\"quickchart('df-bd03b168-8174-4055-af0a-bb94d739e74a')\"\n",
              "            title=\"Suggest charts\"\n",
              "            style=\"display:none;\">\n",
              "\n",
              "<svg xmlns=\"http://www.w3.org/2000/svg\" height=\"24px\"viewBox=\"0 0 24 24\"\n",
              "     width=\"24px\">\n",
              "    <g>\n",
              "        <path d=\"M19 3H5c-1.1 0-2 .9-2 2v14c0 1.1.9 2 2 2h14c1.1 0 2-.9 2-2V5c0-1.1-.9-2-2-2zM9 17H7v-7h2v7zm4 0h-2V7h2v10zm4 0h-2v-4h2v4z\"/>\n",
              "    </g>\n",
              "</svg>\n",
              "  </button>\n",
              "\n",
              "<style>\n",
              "  .colab-df-quickchart {\n",
              "      --bg-color: #E8F0FE;\n",
              "      --fill-color: #1967D2;\n",
              "      --hover-bg-color: #E2EBFA;\n",
              "      --hover-fill-color: #174EA6;\n",
              "      --disabled-fill-color: #AAA;\n",
              "      --disabled-bg-color: #DDD;\n",
              "  }\n",
              "\n",
              "  [theme=dark] .colab-df-quickchart {\n",
              "      --bg-color: #3B4455;\n",
              "      --fill-color: #D2E3FC;\n",
              "      --hover-bg-color: #434B5C;\n",
              "      --hover-fill-color: #FFFFFF;\n",
              "      --disabled-bg-color: #3B4455;\n",
              "      --disabled-fill-color: #666;\n",
              "  }\n",
              "\n",
              "  .colab-df-quickchart {\n",
              "    background-color: var(--bg-color);\n",
              "    border: none;\n",
              "    border-radius: 50%;\n",
              "    cursor: pointer;\n",
              "    display: none;\n",
              "    fill: var(--fill-color);\n",
              "    height: 32px;\n",
              "    padding: 0;\n",
              "    width: 32px;\n",
              "  }\n",
              "\n",
              "  .colab-df-quickchart:hover {\n",
              "    background-color: var(--hover-bg-color);\n",
              "    box-shadow: 0 1px 2px rgba(60, 64, 67, 0.3), 0 1px 3px 1px rgba(60, 64, 67, 0.15);\n",
              "    fill: var(--button-hover-fill-color);\n",
              "  }\n",
              "\n",
              "  .colab-df-quickchart-complete:disabled,\n",
              "  .colab-df-quickchart-complete:disabled:hover {\n",
              "    background-color: var(--disabled-bg-color);\n",
              "    fill: var(--disabled-fill-color);\n",
              "    box-shadow: none;\n",
              "  }\n",
              "\n",
              "  .colab-df-spinner {\n",
              "    border: 2px solid var(--fill-color);\n",
              "    border-color: transparent;\n",
              "    border-bottom-color: var(--fill-color);\n",
              "    animation:\n",
              "      spin 1s steps(1) infinite;\n",
              "  }\n",
              "\n",
              "  @keyframes spin {\n",
              "    0% {\n",
              "      border-color: transparent;\n",
              "      border-bottom-color: var(--fill-color);\n",
              "      border-left-color: var(--fill-color);\n",
              "    }\n",
              "    20% {\n",
              "      border-color: transparent;\n",
              "      border-left-color: var(--fill-color);\n",
              "      border-top-color: var(--fill-color);\n",
              "    }\n",
              "    30% {\n",
              "      border-color: transparent;\n",
              "      border-left-color: var(--fill-color);\n",
              "      border-top-color: var(--fill-color);\n",
              "      border-right-color: var(--fill-color);\n",
              "    }\n",
              "    40% {\n",
              "      border-color: transparent;\n",
              "      border-right-color: var(--fill-color);\n",
              "      border-top-color: var(--fill-color);\n",
              "    }\n",
              "    60% {\n",
              "      border-color: transparent;\n",
              "      border-right-color: var(--fill-color);\n",
              "    }\n",
              "    80% {\n",
              "      border-color: transparent;\n",
              "      border-right-color: var(--fill-color);\n",
              "      border-bottom-color: var(--fill-color);\n",
              "    }\n",
              "    90% {\n",
              "      border-color: transparent;\n",
              "      border-bottom-color: var(--fill-color);\n",
              "    }\n",
              "  }\n",
              "</style>\n",
              "\n",
              "  <script>\n",
              "    async function quickchart(key) {\n",
              "      const quickchartButtonEl =\n",
              "        document.querySelector('#' + key + ' button');\n",
              "      quickchartButtonEl.disabled = true;  // To prevent multiple clicks.\n",
              "      quickchartButtonEl.classList.add('colab-df-spinner');\n",
              "      try {\n",
              "        const charts = await google.colab.kernel.invokeFunction(\n",
              "            'suggestCharts', [key], {});\n",
              "      } catch (error) {\n",
              "        console.error('Error during call to suggestCharts:', error);\n",
              "      }\n",
              "      quickchartButtonEl.classList.remove('colab-df-spinner');\n",
              "      quickchartButtonEl.classList.add('colab-df-quickchart-complete');\n",
              "    }\n",
              "    (() => {\n",
              "      let quickchartButtonEl =\n",
              "        document.querySelector('#df-bd03b168-8174-4055-af0a-bb94d739e74a button');\n",
              "      quickchartButtonEl.style.display =\n",
              "        google.colab.kernel.accessAllowed ? 'block' : 'none';\n",
              "    })();\n",
              "  </script>\n",
              "</div>\n",
              "\n",
              "    </div>\n",
              "  </div>\n"
            ],
            "application/vnd.google.colaboratory.intrinsic+json": {
              "type": "dataframe",
              "variable_name": "neighborhoods_zones",
              "summary": "{\n  \"name\": \"neighborhoods_zones\",\n  \"rows\": 49,\n  \"fields\": [\n    {\n      \"column\": \"ZONA\",\n      \"properties\": {\n        \"dtype\": \"string\",\n        \"num_unique_values\": 49,\n        \"samples\": [\n          \"25\",\n          \"242\",\n          \"245\"\n        ],\n        \"semantic_type\": \"\",\n        \"description\": \"\"\n      }\n    },\n    {\n      \"column\": \"ENDERECO\",\n      \"properties\": {\n        \"dtype\": \"string\",\n        \"num_unique_values\": 38,\n        \"samples\": [\n          \"RUA SID\\u00d4NIO PAES, 54, LOJA 06, CASCADURA - RIO DE JANEIRO</p>\",\n          \"AV. MARECHAL FONTENELE, 4650 (AO LADO DA CEF), MAGALH\\u00c3ES BASTOS - RIO DE JANEIRO</p>\",\n          \"AV AYRTON SENNA 2001 BLOCO C, BARRA DA TIJUCA - RIO DE JANEIRO</p>\"\n        ],\n        \"semantic_type\": \"\",\n        \"description\": \"\"\n      }\n    },\n    {\n      \"column\": \"BAIRRO\",\n      \"properties\": {\n        \"dtype\": \"category\",\n        \"num_unique_values\": 22,\n        \"samples\": [\n          \"JARDIM BOTANICO\",\n          \"CASCADURA\",\n          \"OLARIA\"\n        ],\n        \"semantic_type\": \"\",\n        \"description\": \"\"\n      }\n    }\n  ]\n}"
            }
          },
          "metadata": {},
          "execution_count": 16
        }
      ]
    }
  ]
}